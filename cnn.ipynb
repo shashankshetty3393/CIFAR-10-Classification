{
  "metadata": {
    "kernelspec": {
      "name": "python3",
      "display_name": "Python 3",
      "language": "python"
    },
    "language_info": {
      "name": "python",
      "version": "3.10.13",
      "mimetype": "text/x-python",
      "codemirror_mode": {
        "name": "ipython",
        "version": 3
      },
      "pygments_lexer": "ipython3",
      "nbconvert_exporter": "python",
      "file_extension": ".py"
    },
    "papermill": {
      "default_parameters": {},
      "duration": 836.844813,
      "end_time": "2023-07-01T05:13:40.638451",
      "environment_variables": {},
      "exception": null,
      "input_path": "__notebook__.ipynb",
      "output_path": "__notebook__.ipynb",
      "parameters": {},
      "start_time": "2023-07-01T04:59:43.793638",
      "version": "2.4.0"
    },
    "kaggle": {
      "accelerator": "none",
      "dataSources": [],
      "dockerImageVersionId": 30698,
      "isInternetEnabled": false,
      "language": "python",
      "sourceType": "notebook",
      "isGpuEnabled": false
    },
    "colab": {
      "provenance": [],
      "gpuType": "T4"
    },
    "accelerator": "GPU"
  },
  "nbformat_minor": 5,
  "nbformat": 4,
  "cells": [
    {
      "cell_type": "markdown",
      "source": [
        "Import all the necessary libraries from tensorflow,sklearn"
      ],
      "metadata": {
        "id": "tKD5KtJN6PcT"
      },
      "id": "tKD5KtJN6PcT"
    },
    {
      "cell_type": "code",
      "source": [
        "import tensorflow as tf\n",
        "from tensorflow.keras import datasets, layers, models, regularizers\n",
        "import matplotlib.pyplot as plt\n",
        "import numpy as np\n",
        "import keras\n",
        "from tensorflow.keras.layers import Conv2D, MaxPooling2D, Flatten, Dense, BatchNormalization, Dropout\n",
        "from sklearn.model_selection import train_test_split\n",
        "from sklearn.metrics import confusion_matrix, precision_score, recall_score, roc_curve, roc_auc_score\n",
        "from tensorflow.keras.regularizers import l2"
      ],
      "metadata": {
        "id": "jU_ErYdZ-XPE",
        "papermill": {
          "duration": 10.496117,
          "end_time": "2023-07-01T05:00:07.289928",
          "exception": false,
          "start_time": "2023-07-01T04:59:56.793811",
          "status": "completed"
        },
        "tags": [],
        "execution": {
          "iopub.status.busy": "2024-04-26T23:28:25.512115Z",
          "iopub.execute_input": "2024-04-26T23:28:25.512521Z",
          "iopub.status.idle": "2024-04-26T23:28:25.520614Z",
          "shell.execute_reply.started": "2024-04-26T23:28:25.512490Z",
          "shell.execute_reply": "2024-04-26T23:28:25.519589Z"
        },
        "trusted": true
      },
      "execution_count": null,
      "outputs": [],
      "id": "jU_ErYdZ-XPE"
    },
    {
      "cell_type": "markdown",
      "source": [
        "<h4 color='black'>Load the dataset From tensorflow dataset</h4>"
      ],
      "metadata": {
        "id": "CcTxSAb86PcV"
      },
      "id": "CcTxSAb86PcV"
    },
    {
      "cell_type": "code",
      "source": [
        "(X_train, y_train), (X_test,y_test) = datasets.cifar10.load_data()\n",
        "\n"
      ],
      "metadata": {
        "id": "AaGO_I62-XPK",
        "outputId": "52e03041-951c-42f0-e1f7-8badf82f90f0",
        "papermill": {
          "duration": 10.096457,
          "end_time": "2023-07-01T05:00:17.422085",
          "exception": false,
          "start_time": "2023-07-01T05:00:07.325628",
          "status": "completed"
        },
        "tags": [],
        "execution": {
          "iopub.status.busy": "2024-04-26T22:58:01.592575Z",
          "iopub.execute_input": "2024-04-26T22:58:01.593322Z",
          "iopub.status.idle": "2024-04-26T22:58:02.515524Z",
          "shell.execute_reply.started": "2024-04-26T22:58:01.593291Z",
          "shell.execute_reply": "2024-04-26T22:58:02.514475Z"
        },
        "colab": {
          "base_uri": "https://localhost:8080/"
        },
        "trusted": true
      },
      "execution_count": null,
      "outputs": [
        {
          "output_type": "stream",
          "name": "stdout",
          "text": [
            "Downloading data from https://www.cs.toronto.edu/~kriz/cifar-10-python.tar.gz\n",
            "170498071/170498071 [==============================] - 3s 0us/step\n"
          ]
        }
      ],
      "id": "AaGO_I62-XPK"
    },
    {
      "cell_type": "markdown",
      "source": [
        "Analyize the shape of training and test data"
      ],
      "metadata": {
        "id": "sR8K-V3t6PcW"
      },
      "id": "sR8K-V3t6PcW"
    },
    {
      "cell_type": "code",
      "source": [
        "print(X_train.shape)\n",
        "y_train.shape"
      ],
      "metadata": {
        "execution": {
          "iopub.status.busy": "2024-04-26T23:44:25.226976Z",
          "iopub.execute_input": "2024-04-26T23:44:25.227435Z",
          "iopub.status.idle": "2024-04-26T23:44:25.235252Z",
          "shell.execute_reply.started": "2024-04-26T23:44:25.227403Z",
          "shell.execute_reply": "2024-04-26T23:44:25.234073Z"
        },
        "colab": {
          "base_uri": "https://localhost:8080/"
        },
        "id": "IMJIidn96PcW",
        "outputId": "74c859d5-64a4-41a2-a200-6fffda67e0f5",
        "trusted": true
      },
      "execution_count": null,
      "outputs": [
        {
          "output_type": "stream",
          "name": "stdout",
          "text": [
            "(50000, 32, 32, 3)\n"
          ]
        },
        {
          "output_type": "execute_result",
          "data": {
            "text/plain": [
              "(50000, 1)"
            ]
          },
          "metadata": {},
          "execution_count": 8
        }
      ],
      "id": "IMJIidn96PcW"
    },
    {
      "cell_type": "markdown",
      "source": [
        "split train dataset into train,valid dataset"
      ],
      "metadata": {
        "id": "727T4eQ_6PcX"
      },
      "id": "727T4eQ_6PcX"
    },
    {
      "cell_type": "code",
      "source": [
        "X_train, X_valid, y_train, y_valid = train_test_split(\n",
        "   X_train, y_train, test_size=0.1, random_state=42)"
      ],
      "metadata": {
        "execution": {
          "iopub.status.busy": "2024-04-26T22:58:02.517124Z",
          "iopub.execute_input": "2024-04-26T22:58:02.517564Z",
          "iopub.status.idle": "2024-04-26T22:58:02.577290Z",
          "shell.execute_reply.started": "2024-04-26T22:58:02.517525Z",
          "shell.execute_reply": "2024-04-26T22:58:02.576142Z"
        },
        "id": "kciNlL696PcY",
        "trusted": true
      },
      "execution_count": null,
      "outputs": [],
      "id": "kciNlL696PcY"
    },
    {
      "cell_type": "code",
      "source": [
        "print(X_valid.shape)\n",
        "y_valid.shape"
      ],
      "metadata": {
        "execution": {
          "iopub.status.busy": "2024-04-26T22:58:02.579977Z",
          "iopub.execute_input": "2024-04-26T22:58:02.580313Z",
          "iopub.status.idle": "2024-04-26T22:58:02.587607Z",
          "shell.execute_reply.started": "2024-04-26T22:58:02.580286Z",
          "shell.execute_reply": "2024-04-26T22:58:02.586398Z"
        },
        "colab": {
          "base_uri": "https://localhost:8080/"
        },
        "id": "t-TIXZfu6PcY",
        "outputId": "3729478d-82d3-4c74-e9c0-07edf063c807",
        "trusted": true
      },
      "execution_count": null,
      "outputs": [
        {
          "output_type": "stream",
          "name": "stdout",
          "text": [
            "(5000, 32, 32, 3)\n"
          ]
        },
        {
          "output_type": "execute_result",
          "data": {
            "text/plain": [
              "(5000, 1)"
            ]
          },
          "metadata": {},
          "execution_count": 10
        }
      ],
      "id": "t-TIXZfu6PcY"
    },
    {
      "cell_type": "code",
      "source": [
        "print(X_test.shape)\n",
        "y_test.shape"
      ],
      "metadata": {
        "id": "1bgJa3Rd-XPM",
        "outputId": "4e9b850a-2e10-4b14-adcb-f59eb2028850",
        "papermill": {
          "duration": 0.034505,
          "end_time": "2023-07-01T05:00:17.482650",
          "exception": false,
          "start_time": "2023-07-01T05:00:17.448145",
          "status": "completed"
        },
        "tags": [],
        "execution": {
          "iopub.status.busy": "2024-04-26T22:58:02.588955Z",
          "iopub.execute_input": "2024-04-26T22:58:02.589311Z",
          "iopub.status.idle": "2024-04-26T22:58:02.601104Z",
          "shell.execute_reply.started": "2024-04-26T22:58:02.589284Z",
          "shell.execute_reply": "2024-04-26T22:58:02.599814Z"
        },
        "colab": {
          "base_uri": "https://localhost:8080/"
        },
        "trusted": true
      },
      "execution_count": null,
      "outputs": [
        {
          "output_type": "stream",
          "name": "stdout",
          "text": [
            "(10000, 32, 32, 3)\n"
          ]
        },
        {
          "output_type": "execute_result",
          "data": {
            "text/plain": [
              "(10000, 1)"
            ]
          },
          "metadata": {},
          "execution_count": 11
        }
      ],
      "id": "1bgJa3Rd-XPM"
    },
    {
      "cell_type": "markdown",
      "source": [
        "There are 50000 training images and 10000 test images"
      ],
      "metadata": {
        "id": "gIEVi1X8-XPN",
        "papermill": {
          "duration": 0.022457,
          "end_time": "2023-07-01T05:00:17.531331",
          "exception": false,
          "start_time": "2023-07-01T05:00:17.508874",
          "status": "completed"
        },
        "tags": []
      },
      "id": "gIEVi1X8-XPN"
    },
    {
      "cell_type": "code",
      "source": [
        "y_train = y_train.reshape(-1,)\n",
        "y_valid=y_valid.reshape(-1,)\n",
        "y_train[:5]"
      ],
      "metadata": {
        "id": "_WpLi4WL-XPS",
        "outputId": "1e50cbc7-da9b-4395-e322-1fa43d4141d5",
        "papermill": {
          "duration": 0.03425,
          "end_time": "2023-07-01T05:00:17.750101",
          "exception": false,
          "start_time": "2023-07-01T05:00:17.715851",
          "status": "completed"
        },
        "scrolled": true,
        "tags": [],
        "execution": {
          "iopub.status.busy": "2024-04-26T22:58:02.602490Z",
          "iopub.execute_input": "2024-04-26T22:58:02.602919Z",
          "iopub.status.idle": "2024-04-26T22:58:02.612510Z",
          "shell.execute_reply.started": "2024-04-26T22:58:02.602885Z",
          "shell.execute_reply": "2024-04-26T22:58:02.611418Z"
        },
        "colab": {
          "base_uri": "https://localhost:8080/"
        },
        "trusted": true
      },
      "execution_count": null,
      "outputs": [
        {
          "output_type": "execute_result",
          "data": {
            "text/plain": [
              "array([3, 1, 0, 3, 2], dtype=uint8)"
            ]
          },
          "metadata": {},
          "execution_count": 12
        }
      ],
      "id": "_WpLi4WL-XPS"
    },
    {
      "cell_type": "code",
      "source": [
        "y_test = y_test.reshape(-1,)\n",
        "y_test.shape"
      ],
      "metadata": {
        "id": "4ElrxRUC-XPU",
        "papermill": {
          "duration": 0.032659,
          "end_time": "2023-07-01T05:00:17.805617",
          "exception": false,
          "start_time": "2023-07-01T05:00:17.772958",
          "status": "completed"
        },
        "tags": [],
        "execution": {
          "iopub.status.busy": "2024-04-26T22:58:02.613982Z",
          "iopub.execute_input": "2024-04-26T22:58:02.614413Z",
          "iopub.status.idle": "2024-04-26T22:58:02.623034Z",
          "shell.execute_reply.started": "2024-04-26T22:58:02.614376Z",
          "shell.execute_reply": "2024-04-26T22:58:02.621862Z"
        },
        "colab": {
          "base_uri": "https://localhost:8080/"
        },
        "outputId": "9c0dbe2d-0ddc-436c-bbbd-842fbc2fca72",
        "trusted": true
      },
      "execution_count": null,
      "outputs": [
        {
          "output_type": "execute_result",
          "data": {
            "text/plain": [
              "(10000,)"
            ]
          },
          "metadata": {},
          "execution_count": 13
        }
      ],
      "id": "4ElrxRUC-XPU"
    },
    {
      "cell_type": "code",
      "source": [
        "classes = [\"airplane\",\"automobile\",\"bird\",\"cat\",\"deer\",\"dog\",\"frog\",\"horse\",\"ship\",\"truck\"]"
      ],
      "metadata": {
        "id": "DwJ6-RNy-XPU",
        "papermill": {
          "duration": 0.032884,
          "end_time": "2023-07-01T05:00:17.861381",
          "exception": false,
          "start_time": "2023-07-01T05:00:17.828497",
          "status": "completed"
        },
        "tags": [],
        "execution": {
          "iopub.status.busy": "2024-04-26T22:58:02.624522Z",
          "iopub.execute_input": "2024-04-26T22:58:02.624836Z",
          "iopub.status.idle": "2024-04-26T22:58:02.630861Z",
          "shell.execute_reply.started": "2024-04-26T22:58:02.624805Z",
          "shell.execute_reply": "2024-04-26T22:58:02.629391Z"
        },
        "trusted": true
      },
      "execution_count": null,
      "outputs": [],
      "id": "DwJ6-RNy-XPU"
    },
    {
      "cell_type": "code",
      "source": [
        "def plot_Images(X, y, index):\n",
        "    plt.figure(figsize = (5,2))\n",
        "    plt.imshow(X[index])\n",
        "    plt.xlabel(classes[y[index]])"
      ],
      "metadata": {
        "id": "_tVmQ1Fy-XPW",
        "papermill": {
          "duration": 0.033004,
          "end_time": "2023-07-01T05:00:17.963467",
          "exception": false,
          "start_time": "2023-07-01T05:00:17.930463",
          "status": "completed"
        },
        "tags": [],
        "execution": {
          "iopub.status.busy": "2024-04-26T23:43:05.808101Z",
          "iopub.execute_input": "2024-04-26T23:43:05.808524Z",
          "iopub.status.idle": "2024-04-26T23:43:05.814837Z",
          "shell.execute_reply.started": "2024-04-26T23:43:05.808481Z",
          "shell.execute_reply": "2024-04-26T23:43:05.813587Z"
        },
        "trusted": true
      },
      "execution_count": null,
      "outputs": [],
      "id": "_tVmQ1Fy-XPW"
    },
    {
      "cell_type": "markdown",
      "source": [
        "plotting some training images"
      ],
      "metadata": {
        "id": "DIu6-gpC6Pcc"
      },
      "id": "DIu6-gpC6Pcc"
    },
    {
      "cell_type": "code",
      "source": [
        "for i in range(1,3):\n",
        "   plot_Images(X_train, y_train, i)\n",
        "\n"
      ],
      "metadata": {
        "id": "0KktDl2y-XPY",
        "outputId": "23646b7b-72c1-49d7-d511-04fd96a6f8d0",
        "papermill": {
          "duration": 0.239712,
          "end_time": "2023-07-01T05:00:18.538386",
          "exception": false,
          "start_time": "2023-07-01T05:00:18.298674",
          "status": "completed"
        },
        "tags": [],
        "execution": {
          "iopub.status.busy": "2024-04-26T23:43:17.073273Z",
          "iopub.execute_input": "2024-04-26T23:43:17.073676Z",
          "iopub.status.idle": "2024-04-26T23:43:17.486079Z",
          "shell.execute_reply.started": "2024-04-26T23:43:17.073644Z",
          "shell.execute_reply": "2024-04-26T23:43:17.485032Z"
        },
        "colab": {
          "base_uri": "https://localhost:8080/",
          "height": 457
        },
        "trusted": true
      },
      "execution_count": null,
      "outputs": [
        {
          "output_type": "display_data",
          "data": {
            "text/plain": [
              "<Figure size 500x200 with 1 Axes>"
            ],
            "image/png": "[encoded data removed]"
          },
          "metadata": {}
        },
        {
          "output_type": "display_data",
          "data": {
            "text/plain": [
              "<Figure size 500x200 with 1 Axes>"
            ],
            "image/png": "[encoded data removed]"
          },
          "metadata": {}
        }
      ],
      "id": "0KktDl2y-XPY"
    },
    {
      "cell_type": "markdown",
      "source": [
        "<h4 style=\"color:purple\">Normalizing the training data</h4>"
      ],
      "metadata": {
        "id": "69-YkDR1-XPb",
        "papermill": {
          "duration": 0.024263,
          "end_time": "2023-07-01T05:00:18.635577",
          "exception": false,
          "start_time": "2023-07-01T05:00:18.611314",
          "status": "completed"
        },
        "tags": []
      },
      "id": "69-YkDR1-XPb"
    },
    {
      "cell_type": "code",
      "source": [
        "X_train = X_train / 255.0\n",
        "X_test = X_test / 255.0\n",
        "X_valid=X_valid/255.0"
      ],
      "metadata": {
        "id": "OWLJ1yAa-XPd",
        "papermill": {
          "duration": 0.669913,
          "end_time": "2023-07-01T05:00:19.329115",
          "exception": false,
          "start_time": "2023-07-01T05:00:18.659202",
          "status": "completed"
        },
        "tags": [],
        "execution": {
          "iopub.status.busy": "2024-04-26T22:58:03.256686Z",
          "iopub.execute_input": "2024-04-26T22:58:03.257128Z",
          "iopub.status.idle": "2024-04-26T22:58:03.754314Z",
          "shell.execute_reply.started": "2024-04-26T22:58:03.257089Z",
          "shell.execute_reply": "2024-04-26T22:58:03.753297Z"
        },
        "trusted": true
      },
      "execution_count": null,
      "outputs": [],
      "id": "OWLJ1yAa-XPd"
    },
    {
      "cell_type": "markdown",
      "source": [
        "<h4 style=\"color:\"> Building a custom convolutional neural network to train our images</h4>"
      ],
      "metadata": {
        "id": "rxKCIrnE-XPn",
        "papermill": {
          "duration": 0.615217,
          "end_time": "2023-07-01T05:06:49.397420",
          "exception": false,
          "start_time": "2023-07-01T05:06:48.782203",
          "status": "completed"
        },
        "tags": []
      },
      "id": "rxKCIrnE-XPn"
    },
    {
      "cell_type": "code",
      "source": [
        "cnn = models.Sequential([\n",
        "    layers.Conv2D(filters=32, kernel_size=(3, 3), activation='relu', input_shape=(32, 32, 3)),\n",
        "    layers.MaxPooling2D((2, 2)),\n",
        "\n",
        "    layers.Conv2D(filters=64, kernel_size=(3, 3), activation='relu'),\n",
        "    layers.MaxPooling2D((2, 2)),\n",
        "\n",
        "    layers.Conv2D(filters=128, kernel_size=(3, 3), activation='relu'),\n",
        "    layers.MaxPooling2D((2, 2)),\n",
        "\n",
        "    layers.Flatten(),\n",
        "    layers.Dropout(0.5),\n",
        "    layers.Dense(4096, activation='relu',kernel_regularizer=l2(0.001)),\n",
        "    layers.BatchNormalization(),\n",
        "    layers.Dropout(0.4),\n",
        "    layers.Dense(4096, activation='relu',kernel_regularizer=l2(0.001)),\n",
        "    layers.BatchNormalization(),\n",
        "    layers.Dense(10, activation='softmax')\n",
        "])"
      ],
      "metadata": {
        "id": "AwnuYcgn-XPn",
        "papermill": {
          "duration": 0.693976,
          "end_time": "2023-07-01T05:06:50.633402",
          "exception": false,
          "start_time": "2023-07-01T05:06:49.939426",
          "status": "completed"
        },
        "tags": [],
        "execution": {
          "iopub.status.busy": "2024-04-26T23:28:29.018447Z",
          "iopub.execute_input": "2024-04-26T23:28:29.018872Z",
          "iopub.status.idle": "2024-04-26T23:28:29.117208Z",
          "shell.execute_reply.started": "2024-04-26T23:28:29.018838Z",
          "shell.execute_reply": "2024-04-26T23:28:29.115952Z"
        },
        "trusted": true
      },
      "execution_count": null,
      "outputs": [],
      "id": "AwnuYcgn-XPn"
    },
    {
      "cell_type": "code",
      "source": [
        "cnn.summary()"
      ],
      "metadata": {
        "execution": {
          "iopub.status.busy": "2024-04-26T23:46:26.322632Z",
          "iopub.execute_input": "2024-04-26T23:46:26.323141Z",
          "iopub.status.idle": "2024-04-26T23:46:26.362377Z",
          "shell.execute_reply.started": "2024-04-26T23:46:26.323105Z",
          "shell.execute_reply": "2024-04-26T23:46:26.361306Z"
        },
        "colab": {
          "base_uri": "https://localhost:8080/"
        },
        "id": "uVAzM-LG6Pce",
        "outputId": "59cc50ac-663d-4e26-94d2-9be8e2b49354",
        "trusted": true
      },
      "execution_count": null,
      "outputs": [
        {
          "output_type": "stream",
          "name": "stdout",
          "text": [
            "Model: \"sequential\"\n",
            "_________________________________________________________________\n",
            " Layer (type)                Output Shape              Param #   \n",
            "=================================================================\n",
            " conv2d (Conv2D)             (None, 30, 30, 32)        896       \n",
            "                                                                 \n",
            " max_pooling2d (MaxPooling2  (None, 15, 15, 32)        0         \n",
            " D)                                                              \n",
            "                                                                 \n",
            " conv2d_1 (Conv2D)           (None, 13, 13, 64)        18496     \n",
            "                                                                 \n",
            " max_pooling2d_1 (MaxPoolin  (None, 6, 6, 64)          0         \n",
            " g2D)                                                            \n",
            "                                                                 \n",
            " conv2d_2 (Conv2D)           (None, 4, 4, 128)         73856     \n",
            "                                                                 \n",
            " max_pooling2d_2 (MaxPoolin  (None, 2, 2, 128)         0         \n",
            " g2D)                                                            \n",
            "                                                                 \n",
            " flatten (Flatten)           (None, 512)               0         \n",
            "                                                                 \n",
            " dropout (Dropout)           (None, 512)               0         \n",
            "                                                                 \n",
            " dense (Dense)               (None, 4096)              2101248   \n",
            "                                                                 \n",
            " batch_normalization (Batch  (None, 4096)              16384     \n",
            " Normalization)                                                  \n",
            "                                                                 \n",
            " dropout_1 (Dropout)         (None, 4096)              0         \n",
            "                                                                 \n",
            " dense_1 (Dense)             (None, 4096)              16781312  \n",
            "                                                                 \n",
            " batch_normalization_1 (Bat  (None, 4096)              16384     \n",
            " chNormalization)                                                \n",
            "                                                                 \n",
            " dense_2 (Dense)             (None, 10)                40970     \n",
            "                                                                 \n",
            "=================================================================\n",
            "Total params: 19049546 (72.67 MB)\n",
            "Trainable params: 19033162 (72.61 MB)\n",
            "Non-trainable params: 16384 (64.00 KB)\n",
            "_________________________________________________________________\n"
          ]
        }
      ],
      "id": "uVAzM-LG6Pce"
    },
    {
      "cell_type": "code",
      "source": [
        "cnn.compile(optimizer='adam',\n",
        "              loss='sparse_categorical_crossentropy',\n",
        "              metrics=['accuracy'])"
      ],
      "metadata": {
        "id": "XyUpimKY-XPo",
        "papermill": {
          "duration": 0.568915,
          "end_time": "2023-07-01T05:06:51.737058",
          "exception": false,
          "start_time": "2023-07-01T05:06:51.168143",
          "status": "completed"
        },
        "tags": [],
        "execution": {
          "iopub.status.busy": "2024-04-26T23:28:33.830896Z",
          "iopub.execute_input": "2024-04-26T23:28:33.831331Z",
          "iopub.status.idle": "2024-04-26T23:28:33.842274Z",
          "shell.execute_reply.started": "2024-04-26T23:28:33.831298Z",
          "shell.execute_reply": "2024-04-26T23:28:33.841101Z"
        },
        "trusted": true
      },
      "execution_count": null,
      "outputs": [],
      "id": "XyUpimKY-XPo"
    },
    {
      "cell_type": "code",
      "source": [
        "history = cnn.fit(X_train, y_train, epochs=50, batch_size=64, validation_data=(X_valid, y_valid))"
      ],
      "metadata": {
        "id": "abPabatb-XPp",
        "outputId": "a0d5a822-3f32-4d4f-844f-b5221d477758",
        "papermill": {
          "duration": 375.641971,
          "end_time": "2023-07-01T05:13:07.999427",
          "exception": false,
          "start_time": "2023-07-01T05:06:52.357456",
          "status": "completed"
        },
        "tags": [],
        "execution": {
          "iopub.status.busy": "2024-04-26T23:28:35.854120Z",
          "iopub.execute_input": "2024-04-26T23:28:35.854515Z",
          "iopub.status.idle": "2024-04-26T23:35:52.562715Z",
          "shell.execute_reply.started": "2024-04-26T23:28:35.854486Z",
          "shell.execute_reply": "2024-04-26T23:35:52.561582Z"
        },
        "colab": {
          "base_uri": "https://localhost:8080/"
        },
        "trusted": true
      },
      "execution_count": null,
      "outputs": [
        {
          "output_type": "stream",
          "name": "stdout",
          "text": [
            "Epoch 1/50\n",
            "704/704 [==============================] - 19s 17ms/step - loss: 4.9235 - accuracy: 0.3186 - val_loss: 2.6892 - val_accuracy: 0.3944\n",
            "Epoch 2/50\n",
            "704/704 [==============================] - 10s 14ms/step - loss: 2.3417 - accuracy: 0.4184 - val_loss: 2.2167 - val_accuracy: 0.4330\n",
            "Epoch 3/50\n",
            "704/704 [==============================] - 10s 14ms/step - loss: 2.0650 - accuracy: 0.4645 - val_loss: 2.0261 - val_accuracy: 0.3996\n",
            "Epoch 4/50\n",
            "704/704 [==============================] - 9s 13ms/step - loss: 1.8365 - accuracy: 0.5008 - val_loss: 1.6681 - val_accuracy: 0.5194\n",
            "Epoch 5/50\n",
            "704/704 [==============================] - 9s 13ms/step - loss: 1.6949 - accuracy: 0.5363 - val_loss: 1.6590 - val_accuracy: 0.5296\n",
            "Epoch 6/50\n",
            "704/704 [==============================] - 9s 13ms/step - loss: 1.5939 - accuracy: 0.5613 - val_loss: 1.5316 - val_accuracy: 0.5864\n",
            "Epoch 7/50\n",
            "704/704 [==============================] - 9s 13ms/step - loss: 1.4683 - accuracy: 0.5884 - val_loss: 1.3676 - val_accuracy: 0.6108\n",
            "Epoch 8/50\n",
            "704/704 [==============================] - 9s 13ms/step - loss: 1.3640 - accuracy: 0.6097 - val_loss: 1.3137 - val_accuracy: 0.6082\n",
            "Epoch 9/50\n",
            "704/704 [==============================] - 9s 13ms/step - loss: 1.2883 - accuracy: 0.6223 - val_loss: 1.1874 - val_accuracy: 0.6574\n",
            "Epoch 10/50\n",
            "704/704 [==============================] - 9s 13ms/step - loss: 1.2222 - accuracy: 0.6391 - val_loss: 1.2635 - val_accuracy: 0.6218\n",
            "Epoch 11/50\n",
            "704/704 [==============================] - 9s 13ms/step - loss: 1.1727 - accuracy: 0.6485 - val_loss: 1.1018 - val_accuracy: 0.6616\n",
            "Epoch 12/50\n",
            "704/704 [==============================] - 9s 13ms/step - loss: 1.1322 - accuracy: 0.6595 - val_loss: 1.2302 - val_accuracy: 0.6222\n",
            "Epoch 13/50\n",
            "704/704 [==============================] - 9s 13ms/step - loss: 1.1129 - accuracy: 0.6628 - val_loss: 1.0140 - val_accuracy: 0.6936\n",
            "Epoch 14/50\n",
            "704/704 [==============================] - 9s 13ms/step - loss: 1.0778 - accuracy: 0.6724 - val_loss: 1.0865 - val_accuracy: 0.6686\n",
            "Epoch 15/50\n",
            "704/704 [==============================] - 9s 13ms/step - loss: 1.0616 - accuracy: 0.6771 - val_loss: 0.9982 - val_accuracy: 0.6934\n",
            "Epoch 16/50\n",
            "704/704 [==============================] - 9s 13ms/step - loss: 1.0371 - accuracy: 0.6880 - val_loss: 1.0163 - val_accuracy: 0.6902\n",
            "Epoch 17/50\n",
            "704/704 [==============================] - 9s 13ms/step - loss: 1.0225 - accuracy: 0.6886 - val_loss: 0.9527 - val_accuracy: 0.7154\n",
            "Epoch 18/50\n",
            "704/704 [==============================] - 9s 13ms/step - loss: 1.0055 - accuracy: 0.6983 - val_loss: 0.9720 - val_accuracy: 0.6984\n",
            "Epoch 19/50\n",
            "704/704 [==============================] - 9s 13ms/step - loss: 0.9982 - accuracy: 0.6966 - val_loss: 1.0160 - val_accuracy: 0.6888\n",
            "Epoch 20/50\n",
            "704/704 [==============================] - 9s 13ms/step - loss: 0.9810 - accuracy: 0.7046 - val_loss: 1.0226 - val_accuracy: 0.6836\n",
            "Epoch 21/50\n",
            "704/704 [==============================] - 9s 13ms/step - loss: 0.9562 - accuracy: 0.7104 - val_loss: 0.9519 - val_accuracy: 0.7128\n",
            "Epoch 22/50\n",
            "704/704 [==============================] - 9s 13ms/step - loss: 0.9476 - accuracy: 0.7169 - val_loss: 0.9613 - val_accuracy: 0.7060\n",
            "Epoch 23/50\n",
            "704/704 [==============================] - 9s 13ms/step - loss: 0.9394 - accuracy: 0.7158 - val_loss: 0.9244 - val_accuracy: 0.7216\n",
            "Epoch 24/50\n",
            "704/704 [==============================] - 9s 13ms/step - loss: 0.9321 - accuracy: 0.7185 - val_loss: 0.9012 - val_accuracy: 0.7260\n",
            "Epoch 25/50\n",
            "704/704 [==============================] - 9s 13ms/step - loss: 0.9216 - accuracy: 0.7225 - val_loss: 0.8953 - val_accuracy: 0.7286\n",
            "Epoch 26/50\n",
            "704/704 [==============================] - 9s 13ms/step - loss: 0.9082 - accuracy: 0.7271 - val_loss: 0.9270 - val_accuracy: 0.7280\n",
            "Epoch 27/50\n",
            "704/704 [==============================] - 9s 13ms/step - loss: 0.9006 - accuracy: 0.7287 - val_loss: 0.9907 - val_accuracy: 0.6948\n",
            "Epoch 28/50\n",
            "704/704 [==============================] - 9s 13ms/step - loss: 0.8984 - accuracy: 0.7299 - val_loss: 0.9050 - val_accuracy: 0.7230\n",
            "Epoch 29/50\n",
            "704/704 [==============================] - 9s 13ms/step - loss: 0.8855 - accuracy: 0.7330 - val_loss: 0.9309 - val_accuracy: 0.7174\n",
            "Epoch 30/50\n",
            "704/704 [==============================] - 10s 13ms/step - loss: 0.8782 - accuracy: 0.7362 - val_loss: 0.8919 - val_accuracy: 0.7254\n",
            "Epoch 31/50\n",
            "704/704 [==============================] - 9s 13ms/step - loss: 0.8761 - accuracy: 0.7377 - val_loss: 0.9055 - val_accuracy: 0.7286\n",
            "Epoch 32/50\n",
            "704/704 [==============================] - 9s 13ms/step - loss: 0.8606 - accuracy: 0.7405 - val_loss: 0.9559 - val_accuracy: 0.7076\n",
            "Epoch 33/50\n",
            "704/704 [==============================] - 9s 13ms/step - loss: 0.8456 - accuracy: 0.7480 - val_loss: 0.8673 - val_accuracy: 0.7354\n",
            "Epoch 34/50\n",
            "704/704 [==============================] - 9s 13ms/step - loss: 0.8519 - accuracy: 0.7441 - val_loss: 0.9288 - val_accuracy: 0.7188\n",
            "Epoch 35/50\n",
            "704/704 [==============================] - 9s 13ms/step - loss: 0.8445 - accuracy: 0.7446 - val_loss: 0.8596 - val_accuracy: 0.7344\n",
            "Epoch 36/50\n",
            "704/704 [==============================] - 9s 13ms/step - loss: 0.8352 - accuracy: 0.7494 - val_loss: 0.9007 - val_accuracy: 0.7240\n",
            "Epoch 37/50\n",
            "704/704 [==============================] - 9s 13ms/step - loss: 0.8291 - accuracy: 0.7520 - val_loss: 0.8278 - val_accuracy: 0.7556\n",
            "Epoch 38/50\n",
            "704/704 [==============================] - 9s 13ms/step - loss: 0.8204 - accuracy: 0.7540 - val_loss: 0.8426 - val_accuracy: 0.7558\n",
            "Epoch 39/50\n",
            "704/704 [==============================] - 9s 13ms/step - loss: 0.8220 - accuracy: 0.7532 - val_loss: 0.8713 - val_accuracy: 0.7372\n",
            "Epoch 40/50\n",
            "704/704 [==============================] - 9s 13ms/step - loss: 0.8149 - accuracy: 0.7573 - val_loss: 0.8914 - val_accuracy: 0.7400\n",
            "Epoch 41/50\n",
            "704/704 [==============================] - 9s 13ms/step - loss: 0.8081 - accuracy: 0.7599 - val_loss: 1.0722 - val_accuracy: 0.6804\n",
            "Epoch 42/50\n",
            "704/704 [==============================] - 9s 13ms/step - loss: 0.8054 - accuracy: 0.7593 - val_loss: 0.9106 - val_accuracy: 0.7326\n",
            "Epoch 43/50\n",
            "704/704 [==============================] - 9s 13ms/step - loss: 0.7994 - accuracy: 0.7614 - val_loss: 0.8069 - val_accuracy: 0.7576\n",
            "Epoch 44/50\n",
            "704/704 [==============================] - 9s 13ms/step - loss: 0.7873 - accuracy: 0.7643 - val_loss: 0.8396 - val_accuracy: 0.7434\n",
            "Epoch 45/50\n",
            "704/704 [==============================] - 9s 13ms/step - loss: 0.7837 - accuracy: 0.7646 - val_loss: 0.8471 - val_accuracy: 0.7436\n",
            "Epoch 46/50\n",
            "704/704 [==============================] - 9s 13ms/step - loss: 0.7857 - accuracy: 0.7663 - val_loss: 0.8824 - val_accuracy: 0.7346\n",
            "Epoch 47/50\n",
            "704/704 [==============================] - 9s 13ms/step - loss: 0.7739 - accuracy: 0.7685 - val_loss: 0.8829 - val_accuracy: 0.7380\n",
            "Epoch 48/50\n",
            "704/704 [==============================] - 10s 14ms/step - loss: 0.7726 - accuracy: 0.7680 - val_loss: 0.8079 - val_accuracy: 0.7588\n",
            "Epoch 49/50\n",
            "704/704 [==============================] - 9s 13ms/step - loss: 0.7679 - accuracy: 0.7700 - val_loss: 0.8398 - val_accuracy: 0.7468\n",
            "Epoch 50/50\n",
            "704/704 [==============================] - 9s 13ms/step - loss: 0.7655 - accuracy: 0.7697 - val_loss: 0.8287 - val_accuracy: 0.7512\n"
          ]
        }
      ],
      "id": "abPabatb-XPp"
    },
    {
      "cell_type": "markdown",
      "source": [],
      "metadata": {
        "id": "ZeAEgl9k-XPr",
        "papermill": {
          "duration": 1.102554,
          "end_time": "2023-07-01T05:13:10.130029",
          "exception": false,
          "start_time": "2023-07-01T05:13:09.027475",
          "status": "completed"
        },
        "tags": []
      },
      "id": "ZeAEgl9k-XPr"
    },
    {
      "cell_type": "markdown",
      "source": [
        "Accuracy of custom_cnn"
      ],
      "metadata": {
        "id": "JWXVhKzoUTri"
      },
      "id": "JWXVhKzoUTri"
    },
    {
      "cell_type": "code",
      "source": [
        "test_loss, test_acc = cnn.evaluate(X_test, y_test)\n",
        "print(test_acc*100)"
      ],
      "metadata": {
        "id": "c1YjgQ9p-XPs",
        "outputId": "acd110cf-86ec-4513-8571-fe372cbee407",
        "papermill": {
          "duration": 4.279467,
          "end_time": "2023-07-01T05:13:15.438065",
          "exception": false,
          "start_time": "2023-07-01T05:13:11.158598",
          "status": "completed"
        },
        "scrolled": true,
        "tags": [],
        "execution": {
          "iopub.status.busy": "2024-04-26T23:36:10.413313Z",
          "iopub.execute_input": "2024-04-26T23:36:10.414087Z",
          "iopub.status.idle": "2024-04-26T23:36:13.055366Z",
          "shell.execute_reply.started": "2024-04-26T23:36:10.414055Z",
          "shell.execute_reply": "2024-04-26T23:36:13.054353Z"
        },
        "colab": {
          "base_uri": "https://localhost:8080/"
        },
        "trusted": true
      },
      "execution_count": null,
      "outputs": [
        {
          "output_type": "stream",
          "name": "stdout",
          "text": [
            "313/313 [==============================] - 4s 5ms/step - loss: 7.3078 - accuracy: 0.0959\n",
            "9.589999914169312\n"
          ]
        }
      ],
      "id": "c1YjgQ9p-XPs"
    },
    {
      "cell_type": "markdown",
      "source": [
        "<h4 style=\"color:\"> Implementing a alext_net_architecture convolutional neural network to train our images</h4>"
      ],
      "metadata": {
        "id": "OtjdDc58UXPb"
      },
      "id": "OtjdDc58UXPb"
    },
    {
      "cell_type": "code",
      "source": [
        "\n",
        "alex_net_cnn = tf.keras.models.Sequential([\n",
        "        tf.keras.layers.Conv2D(96, (11,11), strides=(4,4), activation='relu', input_shape=(32, 32, 3)),\n",
        "        tf.keras.layers.BatchNormalization(),\n",
        "        tf.keras.layers.MaxPooling2D(pool_size=(3,3), strides=(2,2), padding='same'),\n",
        "\n",
        "        tf.keras.layers.Conv2D(256, (5,5), padding='same', activation='relu'),\n",
        "        tf.keras.layers.BatchNormalization(),\n",
        "        tf.keras.layers.MaxPooling2D(pool_size=(3,3), strides=(2,2), padding='same'),\n",
        "\n",
        "        tf.keras.layers.Conv2D(384, (3,3), padding='same', activation='relu'),\n",
        "        tf.keras.layers.Conv2D(384, (3,3), padding='same', activation='relu'),\n",
        "        tf.keras.layers.Conv2D(256, (3,3), padding='same', activation='relu'),\n",
        "        tf.keras.layers.BatchNormalization(),\n",
        "        tf.keras.layers.MaxPooling2D(pool_size=(3,3), strides=(2,2), padding='same'),\n",
        "\n",
        "        tf.keras.layers.Flatten(),\n",
        "        tf.keras.layers.Dense(4096, activation='relu',kernel_regularizer=l2(0.001)),\n",
        "        tf.keras.layers.Dropout(0.5),\n",
        "\n",
        "        tf.keras.layers.Dense(4096, activation='relu',kernel_regularizer=l2(0.001)),\n",
        "        tf.keras.layers.Dropout(0.5),\n",
        "\n",
        "        tf.keras.layers.Dense(10, activation='softmax')\n",
        "     ])"
      ],
      "metadata": {
        "id": "Dh4dVtFZNs8O"
      },
      "execution_count": null,
      "outputs": [],
      "id": "Dh4dVtFZNs8O"
    },
    {
      "cell_type": "code",
      "source": [
        "alex_net_cnn.summary()"
      ],
      "metadata": {
        "colab": {
          "base_uri": "https://localhost:8080/"
        },
        "id": "kqsHnDYpNxD6",
        "outputId": "12117451-317d-4ca7-c32c-45a8fed9d452"
      },
      "execution_count": null,
      "outputs": [
        {
          "output_type": "stream",
          "name": "stdout",
          "text": [
            "Model: \"sequential_1\"\n",
            "_________________________________________________________________\n",
            " Layer (type)                Output Shape              Param #   \n",
            "=================================================================\n",
            " conv2d_3 (Conv2D)           (None, 6, 6, 96)          34944     \n",
            "                                                                 \n",
            " batch_normalization_2 (Bat  (None, 6, 6, 96)          384       \n",
            " chNormalization)                                                \n",
            "                                                                 \n",
            " max_pooling2d_3 (MaxPoolin  (None, 3, 3, 96)          0         \n",
            " g2D)                                                            \n",
            "                                                                 \n",
            " conv2d_4 (Conv2D)           (None, 3, 3, 256)         614656    \n",
            "                                                                 \n",
            " batch_normalization_3 (Bat  (None, 3, 3, 256)         1024      \n",
            " chNormalization)                                                \n",
            "                                                                 \n",
            " max_pooling2d_4 (MaxPoolin  (None, 2, 2, 256)         0         \n",
            " g2D)                                                            \n",
            "                                                                 \n",
            " conv2d_5 (Conv2D)           (None, 2, 2, 384)         885120    \n",
            "                                                                 \n",
            " conv2d_6 (Conv2D)           (None, 2, 2, 384)         1327488   \n",
            "                                                                 \n",
            " conv2d_7 (Conv2D)           (None, 2, 2, 256)         884992    \n",
            "                                                                 \n",
            " batch_normalization_4 (Bat  (None, 2, 2, 256)         1024      \n",
            " chNormalization)                                                \n",
            "                                                                 \n",
            " max_pooling2d_5 (MaxPoolin  (None, 1, 1, 256)         0         \n",
            " g2D)                                                            \n",
            "                                                                 \n",
            " flatten_1 (Flatten)         (None, 256)               0         \n",
            "                                                                 \n",
            " dense_3 (Dense)             (None, 4096)              1052672   \n",
            "                                                                 \n",
            " dropout_2 (Dropout)         (None, 4096)              0         \n",
            "                                                                 \n",
            " dense_4 (Dense)             (None, 4096)              16781312  \n",
            "                                                                 \n",
            " dropout_3 (Dropout)         (None, 4096)              0         \n",
            "                                                                 \n",
            " dense_5 (Dense)             (None, 10)                40970     \n",
            "                                                                 \n",
            "=================================================================\n",
            "Total params: 21624586 (82.49 MB)\n",
            "Trainable params: 21623370 (82.49 MB)\n",
            "Non-trainable params: 1216 (4.75 KB)\n",
            "_________________________________________________________________\n"
          ]
        }
      ],
      "id": "kqsHnDYpNxD6"
    },
    {
      "cell_type": "code",
      "source": [
        "alex_net_cnn.compile(optimizer='adam',\n",
        "              loss='sparse_categorical_crossentropy',\n",
        "              metrics=['accuracy'])"
      ],
      "metadata": {
        "id": "N1HMb7AvN07g"
      },
      "execution_count": null,
      "outputs": [],
      "id": "N1HMb7AvN07g"
    },
    {
      "cell_type": "code",
      "source": [
        "history1 = alex_net_cnn.fit(X_train, y_train, epochs=50, batch_size=64, validation_data=(X_valid, y_valid))"
      ],
      "metadata": {
        "colab": {
          "base_uri": "https://localhost:8080/"
        },
        "id": "4kgidj2CN3fI",
        "outputId": "b1117f2d-2d4f-4232-cd5d-3144d91b78eb"
      },
      "execution_count": null,
      "outputs": [
        {
          "output_type": "stream",
          "name": "stdout",
          "text": "Epoch 1/50\n\n704/704 [==============================] - 16s 18ms/step - loss: 2.8079 - accuracy: 0.2938 - val_loss: 2.7253 - val_accuracy: 0.2088\n\nEpoch 2/50\n\n704/704 [==============================] - 12s 17ms/step - loss: 1.7328 - accuracy: 0.4048 - val_loss: 1.7753 - val_accuracy: 0.3856\n\nEpoch 3/50\n\n704/704 [==============================] - 12s 17ms/step - loss: 1.5516 - accuracy: 0.4728 - val_loss: 1.9876 - val_accuracy: 0.4018\n\nEpoch 4/50\n\n704/704 [==============================] - 12s 17ms/step - loss: 1.4477 - accuracy: 0.5166 - val_loss: 1.4872 - val_accuracy: 0.4958\n\nEpoch 5/50\n\n704/704 [==============================] - 12s 17ms/step - loss: 1.3464 - accuracy: 0.5598 - val_loss: 1.5734 - val_accuracy: 0.4884\n\nEpoch 6/50\n\n704/704 [==============================] - 12s 17ms/step - loss: 1.2650 - accuracy: 0.5883 - val_loss: 1.3780 - val_accuracy: 0.5496\n\nEpoch 7/50\n\n704/704 [==============================] - 12s 17ms/step - loss: 1.1839 - accuracy: 0.6190 - val_loss: 1.4303 - val_accuracy: 0.5400\n\nEpoch 8/50\n\n704/704 [==============================] - 12s 17ms/step - loss: 1.1131 - accuracy: 0.6439 - val_loss: 1.4216 - val_accuracy: 0.5520\n\nEpoch 9/50\n\n704/704 [==============================] - 12s 17ms/step - loss: 1.0480 - accuracy: 0.6669 - val_loss: 1.2330 - val_accuracy: 0.6020\n\nEpoch 10/50\n\n704/704 [==============================] - 12s 17ms/step - loss: 0.9633 - accuracy: 0.6971 - val_loss: 1.4743 - val_accuracy: 0.5328\n\nEpoch 11/50\n\n704/704 [==============================] - 12s 17ms/step - loss: 0.8978 - accuracy: 0.7234 - val_loss: 1.3195 - val_accuracy: 0.5902\n\nEpoch 12/50\n\n704/704 [==============================] - 12s 17ms/step - loss: 0.8163 - accuracy: 0.7500 - val_loss: 1.3460 - val_accuracy: 0.5820\n\nEpoch 13/50\n\n704/704 [==============================] - 12s 17ms/step - loss: 0.7469 - accuracy: 0.7752 - val_loss: 1.4317 - val_accuracy: 0.5800\n\nEpoch 14/50\n\n704/704 [==============================] - 12s 17ms/step - loss: 0.6644 - accuracy: 0.8030 - val_loss: 1.5767 - val_accuracy: 0.5634\n\nEpoch 15/50\n\n704/704 [==============================] - 12s 17ms/step - loss: 0.6024 - accuracy: 0.8238 - val_loss: 1.3841 - val_accuracy: 0.6040\n\nEpoch 16/50\n\n704/704 [==============================] - 12s 17ms/step - loss: 0.5267 - accuracy: 0.8502 - val_loss: 1.7027 - val_accuracy: 0.5496\n\nEpoch 17/50\n\n704/704 [==============================] - 12s 17ms/step - loss: 0.7985 - accuracy: 0.7617 - val_loss: 1.5218 - val_accuracy: 0.6054\n\nEpoch 18/50\n\n704/704 [==============================] - 12s 17ms/step - loss: 0.4333 - accuracy: 0.8817 - val_loss: 1.5243 - val_accuracy: 0.6150\n\nEpoch 19/50\n\n704/704 [==============================] - 12s 17ms/step - loss: 0.3774 - accuracy: 0.8990 - val_loss: 1.5973 - val_accuracy: 0.6086\n\nEpoch 20/50\n\n704/704 [==============================] - 12s 17ms/step - loss: 0.3434 - accuracy: 0.9103 - val_loss: 1.8570 - val_accuracy: 0.5924\n\nEpoch 21/50\n\n704/704 [==============================] - 12s 17ms/step - loss: 0.3169 - accuracy: 0.9192 - val_loss: 1.7633 - val_accuracy: 0.5886\n\nEpoch 22/50\n\n704/704 [==============================] - 12s 17ms/step - loss: 0.3150 - accuracy: 0.9212 - val_loss: 1.7946 - val_accuracy: 0.5724\n\nEpoch 23/50\n\n704/704 [==============================] - 12s 18ms/step - loss: 0.2732 - accuracy: 0.9343 - val_loss: 1.7873 - val_accuracy: 0.6000\n\nEpoch 24/50\n\n704/704 [==============================] - 12s 17ms/step - loss: 0.2637 - accuracy: 0.9372 - val_loss: 1.9939 - val_accuracy: 0.5908\n\nEpoch 25/50\n\n704/704 [==============================] - 12s 17ms/step - loss: 0.2923 - accuracy: 0.9301 - val_loss: 1.8808 - val_accuracy: 0.5892\n\nEpoch 26/50\n\n704/704 [==============================] - 12s 17ms/step - loss: 0.2314 - accuracy: 0.9462 - val_loss: 1.8662 - val_accuracy: 0.6112\n\nEpoch 27/50\n\n704/704 [==============================] - 12s 18ms/step - loss: 0.2163 - accuracy: 0.9504 - val_loss: 2.0432 - val_accuracy: 0.5868\n\nEpoch 28/50\n\n704/704 [==============================] - 12s 17ms/step - loss: 0.2078 - accuracy: 0.9538 - val_loss: 2.0814 - val_accuracy: 0.5920\n\nEpoch 29/50\n\n704/704 [==============================] - 12s 17ms/step - loss: 0.2005 - accuracy: 0.9559 - val_loss: 2.0740 - val_accuracy: 0.6070\n\nEpoch 30/50\n\n704/704 [==============================] - 12s 17ms/step - loss: 0.2020 - accuracy: 0.9549 - val_loss: 2.0345 - val_accuracy: 0.5882\n\nEpoch 31/50\n\n704/704 [==============================] - 12s 17ms/step - loss: 0.1937 - accuracy: 0.9579 - val_loss: 2.0536 - val_accuracy: 0.6102\n\nEpoch 32/50\n\n704/704 [==============================] - 12s 17ms/step - loss: 0.1692 - accuracy: 0.9642 - val_loss: 2.2114 - val_accuracy: 0.5766\n\nEpoch 33/50\n\n704/704 [==============================] - 12s 17ms/step - loss: 0.1730 - accuracy: 0.9634 - val_loss: 2.1072 - val_accuracy: 0.5918\n\nEpoch 34/50\n\n704/704 [==============================] - 12s 17ms/step - loss: 0.1801 - accuracy: 0.9617 - val_loss: 2.2325 - val_accuracy: 0.6000\n\nEpoch 35/50\n\n704/704 [==============================] - 12s 17ms/step - loss: 0.1620 - accuracy: 0.9661 - val_loss: 2.1264 - val_accuracy: 0.6030\n\nEpoch 36/50\n\n704/704 [==============================] - 12s 17ms/step - loss: 0.1519 - accuracy: 0.9705 - val_loss: 2.3705 - val_accuracy: 0.5910\n\nEpoch 37/50\n\n704/704 [==============================] - 12s 17ms/step - loss: 0.1761 - accuracy: 0.9622 - val_loss: 2.0769 - val_accuracy: 0.6084\n\nEpoch 38/50\n\n704/704 [==============================] - 12s 17ms/step - loss: 0.1449 - accuracy: 0.9711 - val_loss: 2.0937 - val_accuracy: 0.6106\n\nEpoch 39/50\n\n704/704 [==============================] - 12s 17ms/step - loss: 0.1534 - accuracy: 0.9696 - val_loss: 2.0682 - val_accuracy: 0.6132\n\nEpoch 40/50\n\n704/704 [==============================] - 12s 17ms/step - loss: 0.1446 - accuracy: 0.9715 - val_loss: 2.2852 - val_accuracy: 0.5644\n\nEpoch 41/50\n\n704/704 [==============================] - 12s 17ms/step - loss: 0.1669 - accuracy: 0.9667 - val_loss: 2.3010 - val_accuracy: 0.5804\n\nEpoch 42/50\n\n704/704 [==============================] - 12s 17ms/step - loss: 0.1601 - accuracy: 0.9682 - val_loss: 2.3350 - val_accuracy: 0.6014\n\nEpoch 43/50\n\n704/704 [==============================] - 12s 17ms/step - loss: 0.1332 - accuracy: 0.9742 - val_loss: 2.2193 - val_accuracy: 0.6014\n\nEpoch 44/50\n\n704/704 [==============================] - 12s 17ms/step - loss: 0.1357 - accuracy: 0.9743 - val_loss: 2.2376 - val_accuracy: 0.5924\n\nEpoch 45/50\n\n704/704 [==============================] - 12s 17ms/step - loss: 0.1363 - accuracy: 0.9736 - val_loss: 2.3199 - val_accuracy: 0.5950\n\nEpoch 46/50\n\n704/704 [==============================] - 12s 17ms/step - loss: 0.1408 - accuracy: 0.9728 - val_loss: 2.1074 - val_accuracy: 0.6086\n\nEpoch 47/50\n\n704/704 [==============================] - 12s 17ms/step - loss: 0.1228 - accuracy: 0.9769 - val_loss: 2.3264 - val_accuracy: 0.5812\n\nEpoch 48/50\n\n704/704 [==============================] - 12s 17ms/step - loss: 0.1394 - accuracy: 0.9731 - val_loss: 2.3352 - val_accuracy: 0.6016\n\nEpoch 49/50\n\n704/704 [==============================] - 12s 17ms/step - loss: 0.1156 - accuracy: 0.9784 - val_loss: 2.2453 - val_accuracy: 0.6020\n\nEpoch 50/50\n\n704/704 [==============================] - 12s 17ms/step - loss: 0.1379 - accuracy: 0.9739 - val_loss: 2.2651 - val_accuracy: 0.6096\n"
        }
      ],
      "id": "4kgidj2CN3fI"
    },
    {
      "cell_type": "markdown",
      "source": [
        "Accuracy of Alex-Net"
      ],
      "metadata": {
        "id": "4vjwidnPUg9S"
      },
      "id": "4vjwidnPUg9S"
    },
    {
      "cell_type": "code",
      "source": [
        "test_loss, test_acc = alex_net_cnn.evaluate(X_test, y_test)\n",
        "print(test_acc*100)"
      ],
      "metadata": {
        "colab": {
          "base_uri": "https://localhost:8080/"
        },
        "id": "xheiO-tmRk6B",
        "outputId": "52f33cd2-ea18-4470-b4ca-120a73e33b05"
      },
      "execution_count": null,
      "outputs": [
        {
          "output_type": "stream",
          "name": "stdout",
          "text": [
            "313/313 [==============================] - 2s 5ms/step - loss: 6.8806 - accuracy: 0.1000\n",
            "10.000000149011612\n"
          ]
        }
      ],
      "id": "xheiO-tmRk6B"
    },
    {
      "cell_type": "markdown",
      "source": [
        "<h4 style=\"color:\"> Implementing a lenet convolutional neural network to train our images</h4>"
      ],
      "metadata": {
        "id": "L0TAVEK8UlD9"
      },
      "id": "L0TAVEK8UlD9"
    },
    {
      "cell_type": "code",
      "source": [
        "le_net_cnn = tf.keras.models.Sequential([\n",
        "        tf.keras.layers.Conv2D(6, (5, 5), activation='relu', input_shape=(32, 32, 3)),\n",
        "        tf.keras.layers.BatchNormalization(),\n",
        "        tf.keras.layers.MaxPooling2D(pool_size=(2, 2), strides=(2, 2)),\n",
        "\n",
        "        tf.keras.layers.Conv2D(16, (5, 5), activation='relu'),\n",
        "        tf.keras.layers.BatchNormalization(),\n",
        "        tf.keras.layers.MaxPooling2D(pool_size=(2, 2), strides=(2, 2)),\n",
        "\n",
        "        tf.keras.layers.Flatten(),\n",
        "        tf.keras.layers.Dense(120, activation='relu'),\n",
        "        tf.keras.layers.BatchNormalization(),\n",
        "        tf.keras.layers.Dropout(0.5),\n",
        "\n",
        "        tf.keras.layers.Dense(84, activation='relu'),\n",
        "        tf.keras.layers.BatchNormalization(),\n",
        "        tf.keras.layers.Dropout(0.5),\n",
        "\n",
        "        tf.keras.layers.Dense(10, activation='softmax')\n",
        "    ])"
      ],
      "metadata": {
        "id": "uaqU0QXdRwS1"
      },
      "execution_count": null,
      "outputs": [],
      "id": "uaqU0QXdRwS1"
    },
    {
      "cell_type": "code",
      "source": [
        "le_net_cnn.summary()"
      ],
      "metadata": {
        "colab": {
          "base_uri": "https://localhost:8080/"
        },
        "id": "0TqzQDTOUpdq",
        "outputId": "f1d6f52d-899f-4abf-9a94-b35cf17dc335"
      },
      "execution_count": null,
      "outputs": [
        {
          "output_type": "stream",
          "name": "stdout",
          "text": [
            "Model: \"sequential_2\"\n",
            "_________________________________________________________________\n",
            " Layer (type)                Output Shape              Param #   \n",
            "=================================================================\n",
            " conv2d_8 (Conv2D)           (None, 28, 28, 6)         456       \n",
            "                                                                 \n",
            " batch_normalization_5 (Bat  (None, 28, 28, 6)         24        \n",
            " chNormalization)                                                \n",
            "                                                                 \n",
            " max_pooling2d_6 (MaxPoolin  (None, 14, 14, 6)         0         \n",
            " g2D)                                                            \n",
            "                                                                 \n",
            " conv2d_9 (Conv2D)           (None, 10, 10, 16)        2416      \n",
            "                                                                 \n",
            " batch_normalization_6 (Bat  (None, 10, 10, 16)        64        \n",
            " chNormalization)                                                \n",
            "                                                                 \n",
            " max_pooling2d_7 (MaxPoolin  (None, 5, 5, 16)          0         \n",
            " g2D)                                                            \n",
            "                                                                 \n",
            " flatten_2 (Flatten)         (None, 400)               0         \n",
            "                                                                 \n",
            " dense_6 (Dense)             (None, 120)               48120     \n",
            "                                                                 \n",
            " batch_normalization_7 (Bat  (None, 120)               480       \n",
            " chNormalization)                                                \n",
            "                                                                 \n",
            " dropout_4 (Dropout)         (None, 120)               0         \n",
            "                                                                 \n",
            " dense_7 (Dense)             (None, 84)                10164     \n",
            "                                                                 \n",
            " batch_normalization_8 (Bat  (None, 84)                336       \n",
            " chNormalization)                                                \n",
            "                                                                 \n",
            " dropout_5 (Dropout)         (None, 84)                0         \n",
            "                                                                 \n",
            " dense_8 (Dense)             (None, 10)                850       \n",
            "                                                                 \n",
            "=================================================================\n",
            "Total params: 62910 (245.74 KB)\n",
            "Trainable params: 62458 (243.98 KB)\n",
            "Non-trainable params: 452 (1.77 KB)\n",
            "_________________________________________________________________\n"
          ]
        }
      ],
      "id": "0TqzQDTOUpdq"
    },
    {
      "cell_type": "code",
      "source": [
        "le_net_cnn.compile(optimizer='adam',\n",
        "              loss='sparse_categorical_crossentropy',\n",
        "              metrics=['accuracy'])\n",
        "history1 = le_net_cnn.fit(X_train, y_train, epochs=50, batch_size=64, validation_data=(X_valid, y_valid))"
      ],
      "metadata": {
        "colab": {
          "base_uri": "https://localhost:8080/"
        },
        "id": "mW2i0lmdR7Lb",
        "outputId": "777adf36-58ca-4fc4-d0c4-d37d57298c9a"
      },
      "execution_count": null,
      "outputs": [
        {
          "output_type": "stream",
          "name": "stdout",
          "text": [
            "Epoch 1/50\n",
            "704/704 [==============================] - 11s 7ms/step - loss: 2.0678 - accuracy: 0.2882 - val_loss: 1.6240 - val_accuracy: 0.4072\n",
            "Epoch 2/50\n",
            "704/704 [==============================] - 5s 7ms/step - loss: 1.6250 - accuracy: 0.4077 - val_loss: 1.5382 - val_accuracy: 0.4346\n",
            "Epoch 3/50\n",
            "704/704 [==============================] - 5s 6ms/step - loss: 1.4998 - accuracy: 0.4607 - val_loss: 1.5903 - val_accuracy: 0.4304\n",
            "Epoch 4/50\n",
            "704/704 [==============================] - 5s 7ms/step - loss: 1.4330 - accuracy: 0.4868 - val_loss: 1.4541 - val_accuracy: 0.4856\n",
            "Epoch 5/50\n",
            "704/704 [==============================] - 5s 7ms/step - loss: 1.3702 - accuracy: 0.5127 - val_loss: 1.2545 - val_accuracy: 0.5514\n",
            "Epoch 6/50\n",
            "704/704 [==============================] - 4s 6ms/step - loss: 1.3322 - accuracy: 0.5270 - val_loss: 1.2491 - val_accuracy: 0.5514\n",
            "Epoch 7/50\n",
            "704/704 [==============================] - 6s 8ms/step - loss: 1.2948 - accuracy: 0.5441 - val_loss: 1.6814 - val_accuracy: 0.4204\n",
            "Epoch 8/50\n",
            "704/704 [==============================] - 5s 6ms/step - loss: 1.2736 - accuracy: 0.5544 - val_loss: 1.2473 - val_accuracy: 0.5574\n",
            "Epoch 9/50\n",
            "704/704 [==============================] - 5s 7ms/step - loss: 1.2444 - accuracy: 0.5644 - val_loss: 1.4095 - val_accuracy: 0.5110\n",
            "Epoch 10/50\n",
            "704/704 [==============================] - 4s 6ms/step - loss: 1.2215 - accuracy: 0.5702 - val_loss: 1.2700 - val_accuracy: 0.5476\n",
            "Epoch 11/50\n",
            "704/704 [==============================] - 5s 7ms/step - loss: 1.2067 - accuracy: 0.5805 - val_loss: 1.2314 - val_accuracy: 0.5554\n",
            "Epoch 12/50\n",
            "704/704 [==============================] - 6s 8ms/step - loss: 1.1936 - accuracy: 0.5831 - val_loss: 1.2016 - val_accuracy: 0.5776\n",
            "Epoch 13/50\n",
            "704/704 [==============================] - 4s 6ms/step - loss: 1.1814 - accuracy: 0.5875 - val_loss: 1.2308 - val_accuracy: 0.5608\n",
            "Epoch 14/50\n",
            "704/704 [==============================] - 5s 7ms/step - loss: 1.1647 - accuracy: 0.5955 - val_loss: 1.0982 - val_accuracy: 0.6070\n",
            "Epoch 15/50\n",
            "704/704 [==============================] - 5s 7ms/step - loss: 1.1470 - accuracy: 0.5999 - val_loss: 1.1082 - val_accuracy: 0.6014\n",
            "Epoch 16/50\n",
            "704/704 [==============================] - 4s 6ms/step - loss: 1.1421 - accuracy: 0.6016 - val_loss: 1.1370 - val_accuracy: 0.5930\n",
            "Epoch 17/50\n",
            "704/704 [==============================] - 5s 7ms/step - loss: 1.1313 - accuracy: 0.6057 - val_loss: 1.1092 - val_accuracy: 0.5986\n",
            "Epoch 18/50\n",
            "704/704 [==============================] - 4s 6ms/step - loss: 1.1223 - accuracy: 0.6117 - val_loss: 1.1268 - val_accuracy: 0.5968\n",
            "Epoch 19/50\n",
            "704/704 [==============================] - 5s 7ms/step - loss: 1.1143 - accuracy: 0.6127 - val_loss: 1.0972 - val_accuracy: 0.6108\n",
            "Epoch 20/50\n",
            "704/704 [==============================] - 5s 7ms/step - loss: 1.1070 - accuracy: 0.6169 - val_loss: 1.0982 - val_accuracy: 0.6142\n",
            "Epoch 21/50\n",
            "704/704 [==============================] - 4s 6ms/step - loss: 1.0999 - accuracy: 0.6220 - val_loss: 1.0969 - val_accuracy: 0.6076\n",
            "Epoch 22/50\n",
            "704/704 [==============================] - 5s 7ms/step - loss: 1.0942 - accuracy: 0.6216 - val_loss: 1.0814 - val_accuracy: 0.6156\n",
            "Epoch 23/50\n",
            "704/704 [==============================] - 4s 6ms/step - loss: 1.0879 - accuracy: 0.6221 - val_loss: 1.1234 - val_accuracy: 0.5992\n",
            "Epoch 24/50\n",
            "704/704 [==============================] - 4s 6ms/step - loss: 1.0766 - accuracy: 0.6269 - val_loss: 1.0890 - val_accuracy: 0.6140\n",
            "Epoch 25/50\n",
            "704/704 [==============================] - 5s 7ms/step - loss: 1.0762 - accuracy: 0.6302 - val_loss: 1.0737 - val_accuracy: 0.6128\n",
            "Epoch 26/50\n",
            "704/704 [==============================] - 4s 6ms/step - loss: 1.0718 - accuracy: 0.6282 - val_loss: 1.1235 - val_accuracy: 0.6038\n",
            "Epoch 27/50\n",
            "704/704 [==============================] - 5s 7ms/step - loss: 1.0695 - accuracy: 0.6293 - val_loss: 1.0509 - val_accuracy: 0.6262\n",
            "Epoch 28/50\n",
            "704/704 [==============================] - 5s 7ms/step - loss: 1.0540 - accuracy: 0.6362 - val_loss: 1.2265 - val_accuracy: 0.5722\n",
            "Epoch 29/50\n",
            "704/704 [==============================] - 4s 6ms/step - loss: 1.0580 - accuracy: 0.6340 - val_loss: 1.0702 - val_accuracy: 0.6236\n",
            "Epoch 30/50\n",
            "704/704 [==============================] - 5s 7ms/step - loss: 1.0476 - accuracy: 0.6352 - val_loss: 1.0844 - val_accuracy: 0.6180\n",
            "Epoch 31/50\n",
            "704/704 [==============================] - 4s 6ms/step - loss: 1.0442 - accuracy: 0.6368 - val_loss: 1.0713 - val_accuracy: 0.6222\n",
            "Epoch 32/50\n",
            "704/704 [==============================] - 4s 6ms/step - loss: 1.0359 - accuracy: 0.6417 - val_loss: 1.0515 - val_accuracy: 0.6266\n",
            "Epoch 33/50\n",
            "704/704 [==============================] - 5s 7ms/step - loss: 1.0394 - accuracy: 0.6406 - val_loss: 1.0777 - val_accuracy: 0.6270\n",
            "Epoch 34/50\n",
            "704/704 [==============================] - 4s 6ms/step - loss: 1.0353 - accuracy: 0.6415 - val_loss: 1.0817 - val_accuracy: 0.6140\n",
            "Epoch 35/50\n",
            "704/704 [==============================] - 5s 7ms/step - loss: 1.0310 - accuracy: 0.6410 - val_loss: 1.0837 - val_accuracy: 0.6174\n",
            "Epoch 36/50\n",
            "704/704 [==============================] - 4s 6ms/step - loss: 1.0217 - accuracy: 0.6466 - val_loss: 1.0577 - val_accuracy: 0.6330\n",
            "Epoch 37/50\n",
            "704/704 [==============================] - 4s 6ms/step - loss: 1.0188 - accuracy: 0.6464 - val_loss: 1.0811 - val_accuracy: 0.6224\n",
            "Epoch 38/50\n",
            "704/704 [==============================] - 5s 7ms/step - loss: 1.0260 - accuracy: 0.6436 - val_loss: 1.0778 - val_accuracy: 0.6242\n",
            "Epoch 39/50\n",
            "704/704 [==============================] - 5s 6ms/step - loss: 1.0158 - accuracy: 0.6500 - val_loss: 1.0478 - val_accuracy: 0.6308\n",
            "Epoch 40/50\n",
            "704/704 [==============================] - 5s 6ms/step - loss: 1.0111 - accuracy: 0.6516 - val_loss: 1.0611 - val_accuracy: 0.6280\n",
            "Epoch 41/50\n",
            "704/704 [==============================] - 5s 7ms/step - loss: 0.9986 - accuracy: 0.6526 - val_loss: 1.0689 - val_accuracy: 0.6216\n",
            "Epoch 42/50\n",
            "704/704 [==============================] - 5s 6ms/step - loss: 1.0199 - accuracy: 0.6460 - val_loss: 1.0713 - val_accuracy: 0.6246\n",
            "Epoch 43/50\n",
            "704/704 [==============================] - 5s 7ms/step - loss: 0.9964 - accuracy: 0.6563 - val_loss: 1.0665 - val_accuracy: 0.6210\n",
            "Epoch 44/50\n",
            "704/704 [==============================] - 4s 6ms/step - loss: 1.0032 - accuracy: 0.6535 - val_loss: 1.0485 - val_accuracy: 0.6352\n",
            "Epoch 45/50\n",
            "704/704 [==============================] - 5s 6ms/step - loss: 0.9952 - accuracy: 0.6570 - val_loss: 1.1247 - val_accuracy: 0.6112\n",
            "Epoch 46/50\n",
            "704/704 [==============================] - 5s 7ms/step - loss: 0.9935 - accuracy: 0.6550 - val_loss: 1.0435 - val_accuracy: 0.6328\n",
            "Epoch 47/50\n",
            "704/704 [==============================] - 4s 6ms/step - loss: 0.9920 - accuracy: 0.6564 - val_loss: 1.0996 - val_accuracy: 0.6142\n",
            "Epoch 48/50\n",
            "704/704 [==============================] - 5s 7ms/step - loss: 0.9867 - accuracy: 0.6594 - val_loss: 1.0617 - val_accuracy: 0.6314\n",
            "Epoch 49/50\n",
            "704/704 [==============================] - 5s 7ms/step - loss: 0.9878 - accuracy: 0.6615 - val_loss: 1.0692 - val_accuracy: 0.6286\n",
            "Epoch 50/50\n",
            "704/704 [==============================] - 4s 6ms/step - loss: 0.9826 - accuracy: 0.6592 - val_loss: 1.0698 - val_accuracy: 0.6210\n"
          ]
        }
      ],
      "id": "mW2i0lmdR7Lb"
    },
    {
      "cell_type": "markdown",
      "source": [
        "Accuracy of le_net"
      ],
      "metadata": {
        "id": "2RC189KXUs0s"
      },
      "id": "2RC189KXUs0s"
    },
    {
      "cell_type": "code",
      "source": [
        "test_loss, test_acc = le_net_cnn.evaluate(X_test, y_test)\n",
        "print(test_acc*100)"
      ],
      "metadata": {
        "colab": {
          "base_uri": "https://localhost:8080/"
        },
        "id": "WLIx8eGiSzOk",
        "outputId": "05ae53d6-c0b1-444e-9f8f-355539675930"
      },
      "execution_count": null,
      "outputs": [
        {
          "output_type": "stream",
          "name": "stdout",
          "text": [
            "313/313 [==============================] - 1s 3ms/step - loss: 1.0672 - accuracy: 0.6254\n",
            "62.540000677108765\n"
          ]
        }
      ],
      "id": "WLIx8eGiSzOk"
    },
    {
      "cell_type": "markdown",
      "source": [
        "custom_cnn_Architecture\n",
        "\n",
        "Evaluating the results of training data  using accuracy,confusion_matrix, classification report"
      ],
      "metadata": {
        "id": "tuTKBjpdUwnE"
      },
      "id": "tuTKBjpdUwnE"
    },
    {
      "cell_type": "code",
      "source": [
        "from sklearn.metrics import confusion_matrix , classification_report\n",
        "import numpy as np\n",
        "y_pred = cnn.predict(X_test)\n",
        "y_pred_classes = [np.argmax(element) for element in y_pred]\n",
        "class_labels = np.unique(np.concatenate((y_test, y_pred_classes)))\n",
        "conf_matrix = confusion_matrix(y_test, y_pred_classes)\n",
        "# Print confusion matrix with labels\n",
        "print(classes)\n",
        "print(\"Confusion Matrix:\")\n",
        "print(\"\\t\" + \"\\t\".join(str(label) for label in class_labels))\n",
        "for i, row in enumerate(conf_matrix):\n",
        "    print(f\"{class_labels[i]}\\t\" + \"\\t\".join(str(count) for count in row))\n",
        "\n",
        "\n",
        "\n",
        "\n"
      ],
      "metadata": {
        "execution": {
          "iopub.status.busy": "2024-04-26T23:36:30.643400Z",
          "iopub.execute_input": "2024-04-26T23:36:30.644240Z",
          "iopub.status.idle": "2024-04-26T23:36:32.744719Z",
          "shell.execute_reply.started": "2024-04-26T23:36:30.644207Z",
          "shell.execute_reply": "2024-04-26T23:36:32.743699Z"
        },
        "colab": {
          "base_uri": "https://localhost:8080/"
        },
        "id": "qpuSqaOH6Pcf",
        "outputId": "507fe23a-39e8-474e-e68f-d93659aa490b",
        "trusted": true
      },
      "execution_count": null,
      "outputs": [
        {
          "output_type": "stream",
          "name": "stdout",
          "text": [
            "313/313 [==============================] - 1s 2ms/step\n",
            "['airplane', 'automobile', 'bird', 'cat', 'deer', 'dog', 'frog', 'horse', 'ship', 'truck']\n",
            "Confusion Matrix:\n",
            "\t0\t1\t2\t3\t4\t5\t6\t7\t8\t9\n",
            "0\t0\t902\t0\t0\t1\t0\t0\t0\t85\t12\n",
            "1\t0\t818\t0\t0\t5\t0\t0\t0\t145\t32\n",
            "2\t0\t918\t0\t0\t5\t0\t0\t0\t65\t12\n",
            "3\t0\t902\t0\t0\t2\t0\t0\t0\t79\t17\n",
            "4\t0\t931\t0\t0\t8\t0\t0\t0\t55\t6\n",
            "5\t0\t895\t0\t0\t8\t0\t0\t0\t82\t15\n",
            "6\t0\t955\t0\t0\t3\t0\t0\t1\t32\t9\n",
            "7\t0\t888\t0\t0\t2\t0\t0\t0\t73\t37\n",
            "8\t0\t904\t0\t0\t0\t0\t0\t0\t86\t10\n",
            "9\t0\t826\t0\t0\t3\t0\t0\t0\t124\t47\n"
          ]
        }
      ],
      "id": "qpuSqaOH6Pcf"
    },
    {
      "cell_type": "code",
      "source": [
        "print(\"\\nClassification Report:\")\n",
        "print(classification_report(y_test, y_pred_classes,target_names=classes))"
      ],
      "metadata": {
        "execution": {
          "iopub.status.busy": "2024-04-26T23:36:36.531120Z",
          "iopub.execute_input": "2024-04-26T23:36:36.531510Z",
          "iopub.status.idle": "2024-04-26T23:36:36.566471Z",
          "shell.execute_reply.started": "2024-04-26T23:36:36.531476Z",
          "shell.execute_reply": "2024-04-26T23:36:36.565409Z"
        },
        "colab": {
          "base_uri": "https://localhost:8080/"
        },
        "id": "_YwAJoA66Pcf",
        "outputId": "797dcf33-b0da-43ae-c7c9-2198c893358c",
        "trusted": true
      },
      "execution_count": null,
      "outputs": [
        {
          "output_type": "stream",
          "name": "stdout",
          "text": [
            "\n",
            "Classification Report:\n",
            "              precision    recall  f1-score   support\n",
            "\n",
            "    airplane       0.00      0.00      0.00      1000\n",
            "  automobile       0.09      0.82      0.16      1000\n",
            "        bird       0.00      0.00      0.00      1000\n",
            "         cat       0.00      0.00      0.00      1000\n",
            "        deer       0.22      0.01      0.02      1000\n",
            "         dog       0.00      0.00      0.00      1000\n",
            "        frog       0.00      0.00      0.00      1000\n",
            "       horse       0.00      0.00      0.00      1000\n",
            "        ship       0.10      0.09      0.09      1000\n",
            "       truck       0.24      0.05      0.08      1000\n",
            "\n",
            "    accuracy                           0.10     10000\n",
            "   macro avg       0.07      0.10      0.04     10000\n",
            "weighted avg       0.07      0.10      0.04     10000\n",
            "\n"
          ]
        },
        {
          "output_type": "stream",
          "name": "stderr",
          "text": [
            "/usr/local/lib/python3.10/dist-packages/sklearn/metrics/_classification.py:1344: UndefinedMetricWarning: Precision and F-score are ill-defined and being set to 0.0 in labels with no predicted samples. Use `zero_division` parameter to control this behavior.\n",
            "  _warn_prf(average, modifier, msg_start, len(result))\n",
            "/usr/local/lib/python3.10/dist-packages/sklearn/metrics/_classification.py:1344: UndefinedMetricWarning: Precision and F-score are ill-defined and being set to 0.0 in labels with no predicted samples. Use `zero_division` parameter to control this behavior.\n",
            "  _warn_prf(average, modifier, msg_start, len(result))\n",
            "/usr/local/lib/python3.10/dist-packages/sklearn/metrics/_classification.py:1344: UndefinedMetricWarning: Precision and F-score are ill-defined and being set to 0.0 in labels with no predicted samples. Use `zero_division` parameter to control this behavior.\n",
            "  _warn_prf(average, modifier, msg_start, len(result))\n"
          ]
        }
      ],
      "id": "_YwAJoA66Pcf"
    },
    {
      "cell_type": "code",
      "source": [
        "for i in range(11,20):\n",
        "\n",
        "   (plot_Images(X_test, y_pred_classes, i))"
      ],
      "metadata": {
        "colab": {
          "base_uri": "https://localhost:8080/",
          "height": 1000
        },
        "id": "bfmH5AWIYWgp",
        "outputId": "1e784d30-e6dd-40cb-836e-737f7d583581"
      },
      "execution_count": null,
      "outputs": [
        {
          "output_type": "display_data",
          "data": {
            "text/plain": [
              "<Figure size 500x200 with 1 Axes>"
            ],
            "image/png": "[encoded data removed]"
          },
          "metadata": {}
        },
        {
          "output_type": "display_data",
          "data": {
            "text/plain": [
              "<Figure size 500x200 with 1 Axes>"
            ],
            "image/png": "[encoded data removed]"
          },
          "metadata": {}
        },
        {
          "output_type": "display_data",
          "data": {
            "text/plain": [
              "<Figure size 500x200 with 1 Axes>"
            ],
            "image/png": "[encoded data removed]"
          },
          "metadata": {}
        },
        {
          "output_type": "display_data",
          "data": {
            "text/plain": [
              "<Figure size 500x200 with 1 Axes>"
            ],
            "image/png": "[encoded data removed]"
          },
          "metadata": {}
        },
        {
          "output_type": "display_data",
          "data": {
            "text/plain": [
              "<Figure size 500x200 with 1 Axes>"
            ],
            "image/png": "[encoded data removed]"
          },
          "metadata": {}
        },
        {
          "output_type": "display_data",
          "data": {
            "text/plain": [
              "<Figure size 500x200 with 1 Axes>"
            ],
            "image/png": "[encoded data removed]"
          },
          "metadata": {}
        },
        {
          "output_type": "display_data",
          "data": {
            "text/plain": [
              "<Figure size 500x200 with 1 Axes>"
            ],
            "image/png": "[encoded data removed]"
          },
          "metadata": {}
        },
        {
          "output_type": "display_data",
          "data": {
            "text/plain": [
              "<Figure size 500x200 with 1 Axes>"
            ],
            "image/png": "[encoded data removed]"
          },
          "metadata": {}
        },
        {
          "output_type": "display_data",
          "data": {
            "text/plain": [
              "<Figure size 500x200 with 1 Axes>"
            ],
            "image/png": "[encoded data removed]"
          },
          "metadata": {}
        }
      ],
      "id": "bfmH5AWIYWgp"
    },
    {
      "cell_type": "markdown",
      "source": [
        "Alex _Net_Architecture\n",
        "\n",
        "Evaluating the results of training data  using accuracy,confusion_matrix, classification report"
      ],
      "metadata": {
        "id": "tH5Nwzb5VIYR"
      },
      "id": "tH5Nwzb5VIYR"
    },
    {
      "cell_type": "code",
      "source": [
        "\n",
        "from sklearn.metrics import confusion_matrix , classification_report\n",
        "import numpy as np\n",
        "y_pred = alex_net_cnn.predict(X_test)\n",
        "y_pred_classes = [np.argmax(element) for element in y_pred]\n",
        "class_labels = np.unique(np.concatenate((y_test, y_pred_classes)))\n",
        "conf_matrix = confusion_matrix(y_test, y_pred_classes)\n",
        "# Print confusion matrix with labels\n",
        "print(classes)\n",
        "print(\"Confusion Matrix:\")\n",
        "print(\"\\t\" + \"\\t\".join(str(label) for label in class_labels))\n",
        "for i, row in enumerate(conf_matrix):\n",
        "    print(f\"{class_labels[i]}\\t\" + \"\\t\".join(str(count) for count in row))\n",
        "\n",
        "\n",
        "\n",
        "\n"
      ],
      "metadata": {
        "colab": {
          "base_uri": "https://localhost:8080/"
        },
        "id": "N0Z8bnDgTMmg",
        "outputId": "bc078c9c-f9c3-4692-818f-4548da8a2951"
      },
      "execution_count": null,
      "outputs": [
        {
          "output_type": "stream",
          "name": "stdout",
          "text": [
            "313/313 [==============================] - 2s 3ms/step\n",
            "['airplane', 'automobile', 'bird', 'cat', 'deer', 'dog', 'frog', 'horse', 'ship', 'truck']\n",
            "Confusion Matrix:\n",
            "\t0\t1\t2\t3\t4\t5\t6\t7\t8\t9\n",
            "0\t0\t0\t0\t997\t3\t0\t0\t0\t0\t0\n",
            "1\t0\t0\t0\t995\t5\t0\t0\t0\t0\t0\n",
            "2\t0\t0\t0\t994\t6\t0\t0\t0\t0\t0\n",
            "3\t0\t0\t0\t988\t12\t0\t0\t0\t0\t0\n",
            "4\t0\t0\t0\t989\t11\t0\t0\t0\t0\t0\n",
            "5\t0\t0\t0\t992\t8\t0\t0\t0\t0\t0\n",
            "6\t0\t0\t0\t994\t6\t0\t0\t0\t0\t0\n",
            "7\t0\t0\t0\t988\t12\t0\t0\t0\t0\t0\n",
            "8\t0\t0\t0\t995\t5\t0\t0\t0\t0\t0\n",
            "9\t0\t0\t0\t995\t5\t0\t0\t0\t0\t0\n"
          ]
        }
      ],
      "id": "N0Z8bnDgTMmg"
    },
    {
      "cell_type": "code",
      "source": [
        "print(\"\\nClassification Report:\")\n",
        "print(classification_report(y_test, y_pred_classes,target_names=classes))"
      ],
      "metadata": {
        "colab": {
          "base_uri": "https://localhost:8080/"
        },
        "id": "GJ1Y1d4yTUkv",
        "outputId": "6b13884f-163b-4b24-e1be-f43812e1cccf"
      },
      "execution_count": null,
      "outputs": [
        {
          "output_type": "stream",
          "name": "stdout",
          "text": [
            "\n",
            "Classification Report:\n",
            "              precision    recall  f1-score   support\n",
            "\n",
            "    airplane       0.00      0.00      0.00      1000\n",
            "  automobile       0.00      0.00      0.00      1000\n",
            "        bird       0.00      0.00      0.00      1000\n",
            "         cat       0.10      0.99      0.18      1000\n",
            "        deer       0.15      0.01      0.02      1000\n",
            "         dog       0.00      0.00      0.00      1000\n",
            "        frog       0.00      0.00      0.00      1000\n",
            "       horse       0.00      0.00      0.00      1000\n",
            "        ship       0.00      0.00      0.00      1000\n",
            "       truck       0.00      0.00      0.00      1000\n",
            "\n",
            "    accuracy                           0.10     10000\n",
            "   macro avg       0.03      0.10      0.02     10000\n",
            "weighted avg       0.03      0.10      0.02     10000\n",
            "\n"
          ]
        },
        {
          "output_type": "stream",
          "name": "stderr",
          "text": [
            "/usr/local/lib/python3.10/dist-packages/sklearn/metrics/_classification.py:1344: UndefinedMetricWarning: Precision and F-score are ill-defined and being set to 0.0 in labels with no predicted samples. Use `zero_division` parameter to control this behavior.\n",
            "  _warn_prf(average, modifier, msg_start, len(result))\n",
            "/usr/local/lib/python3.10/dist-packages/sklearn/metrics/_classification.py:1344: UndefinedMetricWarning: Precision and F-score are ill-defined and being set to 0.0 in labels with no predicted samples. Use `zero_division` parameter to control this behavior.\n",
            "  _warn_prf(average, modifier, msg_start, len(result))\n",
            "/usr/local/lib/python3.10/dist-packages/sklearn/metrics/_classification.py:1344: UndefinedMetricWarning: Precision and F-score are ill-defined and being set to 0.0 in labels with no predicted samples. Use `zero_division` parameter to control this behavior.\n",
            "  _warn_prf(average, modifier, msg_start, len(result))\n"
          ]
        }
      ],
      "id": "GJ1Y1d4yTUkv"
    },
    {
      "cell_type": "markdown",
      "source": [
        "Le_Net_Architecture\n",
        "\n",
        "Evaluating the results of training data  using accuracy,confusion_matrix, classification report"
      ],
      "metadata": {
        "id": "8SGxInW4VahT"
      },
      "id": "8SGxInW4VahT"
    },
    {
      "cell_type": "code",
      "source": [
        "from sklearn.metrics import confusion_matrix , classification_report\n",
        "import numpy as np\n",
        "y_pred = le_net_cnn.predict(X_test)\n",
        "y_pred_classes = [np.argmax(element) for element in y_pred]\n",
        "class_labels = np.unique(np.concatenate((y_test, y_pred_classes)))\n",
        "conf_matrix = confusion_matrix(y_test, y_pred_classes)\n",
        "# Print confusion matrix with labels\n",
        "print(classes)\n",
        "print(\"Confusion Matrix:\")\n",
        "print(\"\\t\" + \"\\t\".join(str(label) for label in class_labels))\n",
        "for i, row in enumerate(conf_matrix):\n",
        "    print(f\"{class_labels[i]}\\t\" + \"\\t\".join(str(count) for count in row))\n",
        "\n",
        "\n",
        "\n",
        "\n"
      ],
      "metadata": {
        "colab": {
          "base_uri": "https://localhost:8080/"
        },
        "id": "0VxpfIJLTVXS",
        "outputId": "10726706-528f-47f6-8da7-f87f686904dc"
      },
      "execution_count": null,
      "outputs": [
        {
          "output_type": "stream",
          "name": "stdout",
          "text": [
            "313/313 [==============================] - 1s 2ms/step\n",
            "['airplane', 'automobile', 'bird', 'cat', 'deer', 'dog', 'frog', 'horse', 'ship', 'truck']\n",
            "Confusion Matrix:\n",
            "\t0\t1\t2\t3\t4\t5\t6\t7\t8\t9\n",
            "0\t738\t14\t61\t22\t17\t12\t4\t13\t77\t42\n",
            "1\t44\t728\t5\t16\t6\t11\t7\t10\t69\t104\n",
            "2\t94\t7\t512\t85\t94\t108\t38\t25\t24\t13\n",
            "3\t33\t11\t95\t406\t55\t286\t48\t20\t25\t21\n",
            "4\t45\t6\t108\t72\t560\t75\t42\t65\t21\t6\n",
            "5\t17\t3\t69\t165\t33\t635\t12\t47\t11\t8\n",
            "6\t14\t11\t64\t123\t81\t53\t618\t9\t13\t14\n",
            "7\t29\t5\t46\t50\t63\t148\t5\t625\t4\t25\n",
            "8\t113\t31\t17\t17\t7\t16\t3\t6\t767\t23\n",
            "9\t69\t116\t15\t28\t8\t20\t9\t11\t59\t665\n"
          ]
        }
      ],
      "id": "0VxpfIJLTVXS"
    },
    {
      "cell_type": "code",
      "source": [
        "print(\"\\nClassification Report:\")\n",
        "print(classification_report(y_test, y_pred_classes,target_names=classes))"
      ],
      "metadata": {
        "colab": {
          "base_uri": "https://localhost:8080/"
        },
        "id": "gpBR1OgZTZgy",
        "outputId": "4b99ad0a-6be1-4e34-eace-504897b6d917"
      },
      "execution_count": null,
      "outputs": [
        {
          "output_type": "stream",
          "name": "stdout",
          "text": [
            "\n",
            "Classification Report:\n",
            "              precision    recall  f1-score   support\n",
            "\n",
            "    airplane       0.62      0.74      0.67      1000\n",
            "  automobile       0.78      0.73      0.75      1000\n",
            "        bird       0.52      0.51      0.51      1000\n",
            "         cat       0.41      0.41      0.41      1000\n",
            "        deer       0.61      0.56      0.58      1000\n",
            "         dog       0.47      0.64      0.54      1000\n",
            "        frog       0.79      0.62      0.69      1000\n",
            "       horse       0.75      0.62      0.68      1000\n",
            "        ship       0.72      0.77      0.74      1000\n",
            "       truck       0.72      0.67      0.69      1000\n",
            "\n",
            "    accuracy                           0.63     10000\n",
            "   macro avg       0.64      0.63      0.63     10000\n",
            "weighted avg       0.64      0.63      0.63     10000\n",
            "\n"
          ]
        }
      ],
      "id": "gpBR1OgZTZgy"
    },
    {
      "cell_type": "code",
      "source": [
        "for i in range(11,20):\n",
        "\n",
        "   (plot_Images(X_test, y_pred_classes, i))"
      ],
      "metadata": {
        "execution": {
          "iopub.status.busy": "2024-04-26T23:43:35.262705Z",
          "iopub.execute_input": "2024-04-26T23:43:35.263159Z",
          "iopub.status.idle": "2024-04-26T23:43:37.076340Z",
          "shell.execute_reply.started": "2024-04-26T23:43:35.263125Z",
          "shell.execute_reply": "2024-04-26T23:43:37.075084Z"
        },
        "colab": {
          "base_uri": "https://localhost:8080/",
          "height": 1000
        },
        "id": "Ca5NJpLg6Pcf",
        "outputId": "29279fc5-ee85-4889-eb63-323fb02bc238",
        "trusted": true
      },
      "execution_count": null,
      "outputs": [
        {
          "output_type": "display_data",
          "data": {
            "text/plain": [
              "<Figure size 500x200 with 1 Axes>"
            ],
            "image/png": "[encoded data removed]"
          },
          "metadata": {}
        },
        {
          "output_type": "display_data",
          "data": {
            "text/plain": [
              "<Figure size 500x200 with 1 Axes>"
            ],
            "image/png": "[encoded data removed]"
          },
          "metadata": {}
        },
        {
          "output_type": "display_data",
          "data": {
            "text/plain": [
              "<Figure size 500x200 with 1 Axes>"
            ],
            "image/png": "[encoded data removed]"
          },
          "metadata": {}
        },
        {
          "output_type": "display_data",
          "data": {
            "text/plain": [
              "<Figure size 500x200 with 1 Axes>"
            ],
            "image/png": "[encoded data removed]"
          },
          "metadata": {}
        },
        {
          "output_type": "display_data",
          "data": {
            "text/plain": [
              "<Figure size 500x200 with 1 Axes>"
            ],
            "image/png": "[encoded data removed]"
          },
          "metadata": {}
        },
        {
          "output_type": "display_data",
          "data": {
            "text/plain": [
              "<Figure size 500x200 with 1 Axes>"
            ],
            "image/png": "[encoded data removed]"
          },
          "metadata": {}
        },
        {
          "output_type": "display_data",
          "data": {
            "text/plain": [
              "<Figure size 500x200 with 1 Axes>"
            ],
            "image/png": "[encoded data removed]"
          },
          "metadata": {}
        },
        {
          "output_type": "display_data",
          "data": {
            "text/plain": [
              "<Figure size 500x200 with 1 Axes>"
            ],
            "image/png": "[encoded data removed]"
          },
          "metadata": {}
        },
        {
          "output_type": "display_data",
          "data": {
            "text/plain": [
              "<Figure size 500x200 with 1 Axes>"
            ],
            "image/png": "[encoded data removed]"
          },
          "metadata": {}
        }
      ],
      "id": "Ca5NJpLg6Pcf"
    }
  ]
}